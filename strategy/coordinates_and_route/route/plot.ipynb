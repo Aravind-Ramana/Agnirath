{
 "cells": [
  {
   "cell_type": "code",
   "execution_count": 1,
   "metadata": {},
   "outputs": [
    {
     "ename": "ModuleNotFoundError",
     "evalue": "No module named 'plotly'",
     "output_type": "error",
     "traceback": [
      "\u001b[1;31m---------------------------------------------------------------------------\u001b[0m",
      "\u001b[1;31mModuleNotFoundError\u001b[0m                       Traceback (most recent call last)",
      "Input \u001b[1;32mIn [1]\u001b[0m, in \u001b[0;36m<cell line: 1>\u001b[1;34m()\u001b[0m\n\u001b[1;32m----> 1\u001b[0m \u001b[38;5;28;01mimport\u001b[39;00m \u001b[38;5;21;01mplotly\u001b[39;00m\u001b[38;5;21;01m.\u001b[39;00m\u001b[38;5;21;01mexpress\u001b[39;00m \u001b[38;5;28;01mas\u001b[39;00m \u001b[38;5;21;01mpx\u001b[39;00m\n\u001b[0;32m      2\u001b[0m \u001b[38;5;28;01mimport\u001b[39;00m \u001b[38;5;21;01mpandas\u001b[39;00m \u001b[38;5;28;01mas\u001b[39;00m \u001b[38;5;21;01mpd\u001b[39;00m\n\u001b[0;32m      4\u001b[0m \u001b[38;5;66;03m# Load the CSV file\u001b[39;00m\n",
      "\u001b[1;31mModuleNotFoundError\u001b[0m: No module named 'plotly'"
     ]
    }
   ],
   "source": [
    "import plotly.express as px\n",
    "import pandas as pd\n",
    "\n",
    "# Load the CSV file\n",
    "input_file = \"coordinates.csv\"\n",
    "df = pd.read_csv(input_file)\n",
    "\n",
    "# Create a line graph\n",
    "fig = px.line_3d(\n",
    "    df,\n",
    "    x=\"longitude\",\n",
    "    y=\"latitude\",\n",
    "    z=\"altitude\",\n",
    "    title=\"Altitude vs. Latitude and Longitude\",\n",
    ")\n",
    "\n",
    "# Customize the graph layout\n",
    "fig.update_layout(\n",
    "    scene=dict(\n",
    "        xaxis_title=\"Latitude\",\n",
    "        yaxis_title=\"Longitude\",\n",
    "        zaxis_title=\"Altitude\",\n",
    "        aspectmode=\"manual\",  # Ensure a consistent aspect ratio\n",
    "        aspectratio=dict(x=1, y=1, z=1),  # Set the aspect ratio to 1:1:1\n",
    "    )\n",
    ")\n",
    "\n",
    "# Show the graph\n",
    "fig.show()"
   ]
  }
 ],
 "metadata": {
  "kernelspec": {
   "display_name": "Python 3",
   "language": "python",
   "name": "python3"
  },
  "language_info": {
   "codemirror_mode": {
    "name": "ipython",
    "version": 3
   },
   "file_extension": ".py",
   "mimetype": "text/x-python",
   "name": "python",
   "nbconvert_exporter": "python",
   "pygments_lexer": "ipython3",
   "version": "3.10.5"
  }
 },
 "nbformat": 4,
 "nbformat_minor": 2
}
